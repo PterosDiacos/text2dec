{
  "nbformat": 4,
  "nbformat_minor": 0,
  "metadata": {
    "colab": {
      "name": "Text2Dec.ipynb",
      "provenance": [],
      "collapsed_sections": [],
      "toc_visible": true
    },
    "kernelspec": {
      "name": "python3",
      "display_name": "Python 3"
    },
    "accelerator": "GPU"
  },
  "cells": [
    {
      "cell_type": "markdown",
      "metadata": {
        "id": "r8LHD9vlayJn"
      },
      "source": [
        "## 0. Logistics"
      ]
    },
    {
      "cell_type": "code",
      "metadata": {
        "id": "9xLDqEM94U1d",
        "colab": {
          "base_uri": "https://localhost:8080/"
        },
        "outputId": "6500f6d9-2763-496d-dfd7-0f4b2ebd74ba"
      },
      "source": [
        "from google.colab import drive\n",
        "drive.mount('/content/drive')"
      ],
      "execution_count": 2,
      "outputs": [
        {
          "output_type": "stream",
          "text": [
            "Drive already mounted at /content/drive; to attempt to forcibly remount, call drive.mount(\"/content/drive\", force_remount=True).\n"
          ],
          "name": "stdout"
        }
      ]
    },
    {
      "cell_type": "code",
      "metadata": {
        "id": "v3qM2H55CCK3",
        "colab": {
          "base_uri": "https://localhost:8080/"
        },
        "outputId": "bbdcd543-58e3-47fd-8f7c-c6107b30d8ae"
      },
      "source": [
        "!pip install mord\n",
        "!python -m spacy download en_core_web_lg"
      ],
      "execution_count": 1,
      "outputs": [
        {
          "output_type": "stream",
          "text": [
            "Requirement already satisfied: mord in /usr/local/lib/python3.6/dist-packages (0.6)\n",
            "Requirement already satisfied: en_core_web_lg==2.2.5 from https://github.com/explosion/spacy-models/releases/download/en_core_web_lg-2.2.5/en_core_web_lg-2.2.5.tar.gz#egg=en_core_web_lg==2.2.5 in /usr/local/lib/python3.6/dist-packages (2.2.5)\n",
            "Requirement already satisfied: spacy>=2.2.2 in /usr/local/lib/python3.6/dist-packages (from en_core_web_lg==2.2.5) (2.2.4)\n",
            "Requirement already satisfied: preshed<3.1.0,>=3.0.2 in /usr/local/lib/python3.6/dist-packages (from spacy>=2.2.2->en_core_web_lg==2.2.5) (3.0.2)\n",
            "Requirement already satisfied: blis<0.5.0,>=0.4.0 in /usr/local/lib/python3.6/dist-packages (from spacy>=2.2.2->en_core_web_lg==2.2.5) (0.4.1)\n",
            "Requirement already satisfied: setuptools in /usr/local/lib/python3.6/dist-packages (from spacy>=2.2.2->en_core_web_lg==2.2.5) (50.3.2)\n",
            "Requirement already satisfied: cymem<2.1.0,>=2.0.2 in /usr/local/lib/python3.6/dist-packages (from spacy>=2.2.2->en_core_web_lg==2.2.5) (2.0.4)\n",
            "Requirement already satisfied: thinc==7.4.0 in /usr/local/lib/python3.6/dist-packages (from spacy>=2.2.2->en_core_web_lg==2.2.5) (7.4.0)\n",
            "Requirement already satisfied: requests<3.0.0,>=2.13.0 in /usr/local/lib/python3.6/dist-packages (from spacy>=2.2.2->en_core_web_lg==2.2.5) (2.23.0)\n",
            "Requirement already satisfied: srsly<1.1.0,>=1.0.2 in /usr/local/lib/python3.6/dist-packages (from spacy>=2.2.2->en_core_web_lg==2.2.5) (1.0.2)\n",
            "Requirement already satisfied: numpy>=1.15.0 in /usr/local/lib/python3.6/dist-packages (from spacy>=2.2.2->en_core_web_lg==2.2.5) (1.18.5)\n",
            "Requirement already satisfied: wasabi<1.1.0,>=0.4.0 in /usr/local/lib/python3.6/dist-packages (from spacy>=2.2.2->en_core_web_lg==2.2.5) (0.8.0)\n",
            "Requirement already satisfied: tqdm<5.0.0,>=4.38.0 in /usr/local/lib/python3.6/dist-packages (from spacy>=2.2.2->en_core_web_lg==2.2.5) (4.41.1)\n",
            "Requirement already satisfied: plac<1.2.0,>=0.9.6 in /usr/local/lib/python3.6/dist-packages (from spacy>=2.2.2->en_core_web_lg==2.2.5) (1.1.3)\n",
            "Requirement already satisfied: murmurhash<1.1.0,>=0.28.0 in /usr/local/lib/python3.6/dist-packages (from spacy>=2.2.2->en_core_web_lg==2.2.5) (1.0.3)\n",
            "Requirement already satisfied: catalogue<1.1.0,>=0.0.7 in /usr/local/lib/python3.6/dist-packages (from spacy>=2.2.2->en_core_web_lg==2.2.5) (1.0.0)\n",
            "Requirement already satisfied: idna<3,>=2.5 in /usr/local/lib/python3.6/dist-packages (from requests<3.0.0,>=2.13.0->spacy>=2.2.2->en_core_web_lg==2.2.5) (2.10)\n",
            "Requirement already satisfied: chardet<4,>=3.0.2 in /usr/local/lib/python3.6/dist-packages (from requests<3.0.0,>=2.13.0->spacy>=2.2.2->en_core_web_lg==2.2.5) (3.0.4)\n",
            "Requirement already satisfied: certifi>=2017.4.17 in /usr/local/lib/python3.6/dist-packages (from requests<3.0.0,>=2.13.0->spacy>=2.2.2->en_core_web_lg==2.2.5) (2020.6.20)\n",
            "Requirement already satisfied: urllib3!=1.25.0,!=1.25.1,<1.26,>=1.21.1 in /usr/local/lib/python3.6/dist-packages (from requests<3.0.0,>=2.13.0->spacy>=2.2.2->en_core_web_lg==2.2.5) (1.24.3)\n",
            "Requirement already satisfied: importlib-metadata>=0.20; python_version < \"3.8\" in /usr/local/lib/python3.6/dist-packages (from catalogue<1.1.0,>=0.0.7->spacy>=2.2.2->en_core_web_lg==2.2.5) (2.0.0)\n",
            "Requirement already satisfied: zipp>=0.5 in /usr/local/lib/python3.6/dist-packages (from importlib-metadata>=0.20; python_version < \"3.8\"->catalogue<1.1.0,>=0.0.7->spacy>=2.2.2->en_core_web_lg==2.2.5) (3.4.0)\n",
            "\u001b[38;5;2m✔ Download and installation successful\u001b[0m\n",
            "You can now load the model via spacy.load('en_core_web_lg')\n"
          ],
          "name": "stdout"
        }
      ]
    },
    {
      "cell_type": "code",
      "metadata": {
        "id": "ajEtSZE_9WaM"
      },
      "source": [
        "import os\n",
        "import spacy\n",
        "import numpy as np\n",
        "import pandas as pd\n",
        "\n",
        "from mord import LogisticAT\n",
        "from sklearn.linear_model import LogisticRegression\n",
        "from sklearn.metrics import f1_score, accuracy_score, \\\n",
        "                            mean_absolute_error as MAE\n",
        "from sklearn.model_selection import cross_val_score, \\\n",
        "                                    StratifiedShuffleSplit as SSSplit\n",
        "\n",
        "import tensorflow as tf\n",
        "from tensorflow.python.keras import preprocessing as prep\n",
        "from tensorflow.python.keras import models, initializers\n",
        "from tensorflow.python.keras import layers as L                                    \n",
        "\n",
        "import matplotlib\n",
        "import matplotlib.pyplot as plt\n",
        "import seaborn as sns"
      ],
      "execution_count": 2,
      "outputs": []
    },
    {
      "cell_type": "code",
      "metadata": {
        "id": "p6-LlBFSAlQQ"
      },
      "source": [
        "spacy_nlp = spacy.load('en_core_web_lg')"
      ],
      "execution_count": 3,
      "outputs": []
    },
    {
      "cell_type": "code",
      "metadata": {
        "id": "eE_RnjpV6bPl"
      },
      "source": [
        "home_path = '/content/drive/My Drive/Colab Notebooks/assgn'\n",
        "data_path = os.path.join(home_path, 'original.csv')"
      ],
      "execution_count": 4,
      "outputs": []
    },
    {
      "cell_type": "markdown",
      "metadata": {
        "id": "TgKbWa9vjlVr"
      },
      "source": [
        "# Texts to Decades"
      ]
    },
    {
      "cell_type": "markdown",
      "metadata": {
        "id": "xX-Uc0KTxZvz"
      },
      "source": [
        "Task: predict the reviewer’s birth decade (90’s, 80’s, 00’s, etc)  using only text features."
      ]
    },
    {
      "cell_type": "markdown",
      "metadata": {
        "id": "cf_xTYknBDSv"
      },
      "source": [
        "## 1. Data exploration\n",
        "The dataset was web-scraped around 2016 ([dataset author's post](https://www.kaggle.com/nicapotato/womens-ecommerce-clothing-reviews/discussion/65898)). `Atext` concats `Title` and `Review Text`."
      ]
    },
    {
      "cell_type": "code",
      "metadata": {
        "id": "yrszQNH29rjM",
        "colab": {
          "base_uri": "https://localhost:8080/",
          "height": 310
        },
        "outputId": "b78b91cc-1b91-427a-9ba7-91ccd64fd75d"
      },
      "source": [
        "df = pd.read_csv(data_path, index_col=0)\n",
        "df.fillna('', inplace=True)\n",
        "df['Atext'] = df['Title'] + ' ' + df['Review Text']\n",
        "## age should be in (6, 106]; shift decades from [1, 9] to [0, 8]\n",
        "df['Dec'] = (2016 - df['Age'] - 1900) // 10 - 1  \n",
        "\n",
        "#### other prediction targets to explore:\n",
        "#### 3-age-group, 4-age-group, department-name\n",
        "\n",
        "# df['Age3g'] = df['Age'] // 10 // 3\n",
        "# df['Age4g'] = df['Age'] // 10 // 2.5\n",
        "# dlabels = list(set(df['Department Name']))\n",
        "# dlabels = {d: i for i, d in enumerate(dlabels)}\n",
        "# df['DepCode'] = [dlabels[n] for n in df['Department Name']]\n",
        "\n",
        "####\n",
        "\n",
        "df.head()"
      ],
      "execution_count": 5,
      "outputs": [
        {
          "output_type": "execute_result",
          "data": {
            "text/html": [
              "<div>\n",
              "<style scoped>\n",
              "    .dataframe tbody tr th:only-of-type {\n",
              "        vertical-align: middle;\n",
              "    }\n",
              "\n",
              "    .dataframe tbody tr th {\n",
              "        vertical-align: top;\n",
              "    }\n",
              "\n",
              "    .dataframe thead th {\n",
              "        text-align: right;\n",
              "    }\n",
              "</style>\n",
              "<table border=\"1\" class=\"dataframe\">\n",
              "  <thead>\n",
              "    <tr style=\"text-align: right;\">\n",
              "      <th></th>\n",
              "      <th>Clothing ID</th>\n",
              "      <th>Age</th>\n",
              "      <th>Title</th>\n",
              "      <th>Review Text</th>\n",
              "      <th>Rating</th>\n",
              "      <th>Recommended IND</th>\n",
              "      <th>Positive Feedback Count</th>\n",
              "      <th>Division Name</th>\n",
              "      <th>Department Name</th>\n",
              "      <th>Class Name</th>\n",
              "      <th>Atext</th>\n",
              "      <th>Dec</th>\n",
              "    </tr>\n",
              "  </thead>\n",
              "  <tbody>\n",
              "    <tr>\n",
              "      <th>0</th>\n",
              "      <td>767</td>\n",
              "      <td>33</td>\n",
              "      <td></td>\n",
              "      <td>Absolutely wonderful - silky and sexy and comf...</td>\n",
              "      <td>4</td>\n",
              "      <td>1</td>\n",
              "      <td>0</td>\n",
              "      <td>Initmates</td>\n",
              "      <td>Intimate</td>\n",
              "      <td>Intimates</td>\n",
              "      <td>Absolutely wonderful - silky and sexy and com...</td>\n",
              "      <td>7</td>\n",
              "    </tr>\n",
              "    <tr>\n",
              "      <th>1</th>\n",
              "      <td>1080</td>\n",
              "      <td>34</td>\n",
              "      <td></td>\n",
              "      <td>Love this dress!  it's sooo pretty.  i happene...</td>\n",
              "      <td>5</td>\n",
              "      <td>1</td>\n",
              "      <td>4</td>\n",
              "      <td>General</td>\n",
              "      <td>Dresses</td>\n",
              "      <td>Dresses</td>\n",
              "      <td>Love this dress!  it's sooo pretty.  i happen...</td>\n",
              "      <td>7</td>\n",
              "    </tr>\n",
              "    <tr>\n",
              "      <th>2</th>\n",
              "      <td>1077</td>\n",
              "      <td>60</td>\n",
              "      <td>Some major design flaws</td>\n",
              "      <td>I had such high hopes for this dress and reall...</td>\n",
              "      <td>3</td>\n",
              "      <td>0</td>\n",
              "      <td>0</td>\n",
              "      <td>General</td>\n",
              "      <td>Dresses</td>\n",
              "      <td>Dresses</td>\n",
              "      <td>Some major design flaws I had such high hopes ...</td>\n",
              "      <td>4</td>\n",
              "    </tr>\n",
              "    <tr>\n",
              "      <th>3</th>\n",
              "      <td>1049</td>\n",
              "      <td>50</td>\n",
              "      <td>My favorite buy!</td>\n",
              "      <td>I love, love, love this jumpsuit. it's fun, fl...</td>\n",
              "      <td>5</td>\n",
              "      <td>1</td>\n",
              "      <td>0</td>\n",
              "      <td>General Petite</td>\n",
              "      <td>Bottoms</td>\n",
              "      <td>Pants</td>\n",
              "      <td>My favorite buy! I love, love, love this jumps...</td>\n",
              "      <td>5</td>\n",
              "    </tr>\n",
              "    <tr>\n",
              "      <th>4</th>\n",
              "      <td>847</td>\n",
              "      <td>47</td>\n",
              "      <td>Flattering shirt</td>\n",
              "      <td>This shirt is very flattering to all due to th...</td>\n",
              "      <td>5</td>\n",
              "      <td>1</td>\n",
              "      <td>6</td>\n",
              "      <td>General</td>\n",
              "      <td>Tops</td>\n",
              "      <td>Blouses</td>\n",
              "      <td>Flattering shirt This shirt is very flattering...</td>\n",
              "      <td>5</td>\n",
              "    </tr>\n",
              "  </tbody>\n",
              "</table>\n",
              "</div>"
            ],
            "text/plain": [
              "   Clothing ID  Age  ...                                              Atext Dec\n",
              "0          767   33  ...   Absolutely wonderful - silky and sexy and com...   7\n",
              "1         1080   34  ...   Love this dress!  it's sooo pretty.  i happen...   7\n",
              "2         1077   60  ...  Some major design flaws I had such high hopes ...   4\n",
              "3         1049   50  ...  My favorite buy! I love, love, love this jumps...   5\n",
              "4          847   47  ...  Flattering shirt This shirt is very flattering...   5\n",
              "\n",
              "[5 rows x 12 columns]"
            ]
          },
          "metadata": {
            "tags": []
          },
          "execution_count": 5
        }
      ]
    },
    {
      "cell_type": "markdown",
      "metadata": {
        "id": "WkdqbXG-GmlT"
      },
      "source": [
        "Reviewers' age distribution."
      ]
    },
    {
      "cell_type": "code",
      "metadata": {
        "id": "xoLMH0oAATg9",
        "colab": {
          "base_uri": "https://localhost:8080/",
          "height": 387
        },
        "outputId": "ff09c57d-5e10-4951-a0ee-23cc942519c5"
      },
      "source": [
        "sns.set_style('darkgrid'); sns.displot(df['Dec'])"
      ],
      "execution_count": 6,
      "outputs": [
        {
          "output_type": "execute_result",
          "data": {
            "text/plain": [
              "<seaborn.axisgrid.FacetGrid at 0x7fc3a8499128>"
            ]
          },
          "metadata": {
            "tags": []
          },
          "execution_count": 6
        },
        {
          "output_type": "display_data",
          "data": {
            "image/png": "[encoded data removed]",
            "text/plain": [
              "<Figure size 360x360 with 1 Axes>"
            ]
          },
          "metadata": {
            "tags": []
          }
        }
      ]
    },
    {
      "cell_type": "markdown",
      "metadata": {
        "id": "rDJThMbYD-Co"
      },
      "source": [
        "Description of lengths of normalized texts."
      ]
    },
    {
      "cell_type": "code",
      "metadata": {
        "id": "grRvom9SGbg6",
        "colab": {
          "base_uri": "https://localhost:8080/"
        },
        "outputId": "3f37efd5-e75e-487a-b394-231cccbd58d7"
      },
      "source": [
        "import re\n",
        "import nltk\n",
        "nltk.download('stopwords')\n",
        "from nltk.corpus import stopwords\n",
        "\n",
        "STOP_SET = set(stopwords.words('english'))    \n",
        "REPLACE_BY_SPACE = re.compile(r'[/(){}\\[\\]\\|@.,;]')\n",
        "GOOD_SYMBOLS = re.compile(r'[^0-9a-z !?]')\n",
        "PUNCT_SPACE = re.compile(r'([!?])')\n",
        "EXTRA_SPACE = re.compile(r'\\s+')\n",
        "\n",
        "def text_prepare(s):\n",
        "    s = s.lower()\n",
        "    s = REPLACE_BY_SPACE.sub(' ', s)\n",
        "    s = GOOD_SYMBOLS.sub('', s)\n",
        "    s = ' '.join([w for w in s.split() \n",
        "                    if w and w not in STOP_SET])\n",
        "    s = PUNCT_SPACE.sub(r' \\1 ', s)\n",
        "    s = EXTRA_SPACE.sub(' ', s)\n",
        "    return s.strip()"
      ],
      "execution_count": 7,
      "outputs": [
        {
          "output_type": "stream",
          "text": [
            "[nltk_data] Downloading package stopwords to /root/nltk_data...\n",
            "[nltk_data]   Unzipping corpora/stopwords.zip.\n"
          ],
          "name": "stdout"
        }
      ]
    },
    {
      "cell_type": "code",
      "metadata": {
        "id": "E8KQQTtEOT2u"
      },
      "source": [
        "df['Prep'] = [text_prepare(s) for s in df['Atext']]\n",
        "df['Len'] = [len(s.split()) for s in df['Prep']]"
      ],
      "execution_count": 8,
      "outputs": []
    },
    {
      "cell_type": "markdown",
      "metadata": {
        "id": "4fh3QeGnfIQP"
      },
      "source": [
        "Text lengths (max, mean, std) and S/W ratio"
      ]
    },
    {
      "cell_type": "code",
      "metadata": {
        "id": "viHi53PFc6zx",
        "colab": {
          "base_uri": "https://localhost:8080/"
        },
        "outputId": "b73d3f58-9f75-43e0-ca89-fed2bdba1bc4"
      },
      "source": [
        "print('Prepared text lengths:\\n\\tmax = %d\\n\\tmean = %.2f\\n\\tstd = %.2f' %\n",
        "      (df['Len'].max(), df['Len'].mean(), df['Len'].std()))\n",
        "print('\\n(# of samples / # of words per sample): %.2f' % \n",
        "      (len(df) / df['Len'].mean()))"
      ],
      "execution_count": 9,
      "outputs": [
        {
          "output_type": "stream",
          "text": [
            "Prepared text lengths:\n",
            "\tmax = 77\n",
            "\tmean = 31.62\n",
            "\tstd = 15.34\n",
            "\n",
            "(# of samples / # of words per sample): 742.77\n"
          ],
          "name": "stdout"
        }
      ]
    },
    {
      "cell_type": "markdown",
      "metadata": {
        "id": "gjlmwaVPe599"
      },
      "source": [
        "The age group doesn't seem to correlate with the text length"
      ]
    },
    {
      "cell_type": "code",
      "metadata": {
        "id": "m-LkltBcNruc",
        "colab": {
          "base_uri": "https://localhost:8080/",
          "height": 297
        },
        "outputId": "0327a60b-f863-4d32-b8b5-a578b17b072f"
      },
      "source": [
        "sns.lineplot(data=df, x='Dec', y='Len')"
      ],
      "execution_count": 10,
      "outputs": [
        {
          "output_type": "execute_result",
          "data": {
            "text/plain": [
              "<matplotlib.axes._subplots.AxesSubplot at 0x7fc38ade64a8>"
            ]
          },
          "metadata": {
            "tags": []
          },
          "execution_count": 10
        },
        {
          "output_type": "display_data",
          "data": {
            "image/png": "[encoded data removed]",
            "text/plain": [
              "<Figure size 432x288 with 1 Axes>"
            ]
          },
          "metadata": {
            "tags": []
          }
        }
      ]
    },
    {
      "cell_type": "markdown",
      "metadata": {
        "id": "FN1mZyiaaqfh"
      },
      "source": [
        "## 2. Data splits\n",
        "Train 70% - Val 15% - Test 15% (16k, 3.5k, 3.5k)"
      ]
    },
    {
      "cell_type": "code",
      "metadata": {
        "id": "s6oz9l7Aheg9",
        "colab": {
          "base_uri": "https://localhost:8080/"
        },
        "outputId": "92a464c0-a9c4-442a-b4bc-c8b1fef79c63"
      },
      "source": [
        "## get the test set indices and the rest\n",
        "source_col = 'Prep'\n",
        "target_col = 'Dec'\n",
        "random_state = 1\n",
        "idx_, idx_test = next(SSSplit(n_splits=1, \n",
        "                      test_size=0.15, \n",
        "                      random_state=random_state).split(df[source_col], \n",
        "                                                       df[target_col]))\n",
        "X_test, y_test = df[source_col][idx_test], df[target_col][idx_test]\n",
        "\n",
        "## get the (train + val) sets\n",
        "X_train_val, y_train_val = df[source_col][idx_], df[target_col][idx_]\n",
        "num_classes = len(set(y_train_val))\n",
        "print('Class label set:', set(y_train_val))\n",
        "\n",
        "idx_train, idx_val = next(\n",
        "    SSSplit(n_splits=1, \n",
        "            test_size=15 / 85, \n",
        "            random_state=random_state).split(X_train_val, \n",
        "                                             y_train_val))\n",
        "X_train, y_train = df[source_col][idx_train], df[target_col][idx_train]\n",
        "X_val, y_val = df[source_col][idx_val], df[target_col][idx_val]"
      ],
      "execution_count": 11,
      "outputs": [
        {
          "output_type": "stream",
          "text": [
            "Class label set: {0, 1, 2, 3, 4, 5, 6, 7, 8}\n"
          ],
          "name": "stdout"
        }
      ]
    },
    {
      "cell_type": "code",
      "metadata": {
        "id": "CZ_Jy65_VLTS",
        "colab": {
          "base_uri": "https://localhost:8080/"
        },
        "outputId": "11fc6da0-3eee-4825-8357-da25dd149288"
      },
      "source": [
        "for i in range(5):\n",
        "    print('\"%s...\"' % X_train.iloc[i][:50], y_train.iloc[i])"
      ],
      "execution_count": 12,
      "outputs": [
        {
          "output_type": "stream",
          "text": [
            "\"great classic boyfriend jean distressed bought sto...\" 7\n",
            "\"unique love unique tshirt fall colors ranchers the...\" 5\n",
            "\"best shirt ever bought colors wish could buy color...\" 7\n",
            "\"dont miss top great top worth money nice flow soft...\" 5\n",
            "\"cute romper material meh cute romper love pattern ...\" 7\n"
          ],
          "name": "stdout"
        }
      ]
    },
    {
      "cell_type": "markdown",
      "metadata": {
        "id": "S4GQhWF1AQ1m"
      },
      "source": [
        "## 3. Baseline\n",
        "Since S/W ratio is less than 1500 (see [this recommendation](https://developers.google.com/machine-learning/guides/text-classification/step-2-5?hl=en)), it makes sense to try n-gram bag-of-words models. These baseline models give a sense about at least how much better we can do than guessing randomly or by the mode (70s)."
      ]
    },
    {
      "cell_type": "code",
      "metadata": {
        "id": "KkCJtcwE_Fc1"
      },
      "source": [
        "def guessMode(input, mode=6):\n",
        "    return np.array([mode] * input.shape[0])\n",
        "\n",
        "def guessRandom(input, lo=0, hi=8):\n",
        "    return np.random.randint(lo, hi + 1, input.shape[0])\n",
        "\n",
        "def model_assess(title, y_true, y_pred):\n",
        "    print('%s:\\n' % title,\n",
        "        'MAE: %.3f' % MAE(y_true, y_pred),\n",
        "        'Acc: %.3f' % accuracy_score(y_true, y_pred),\n",
        "        'F1: %.3f' % f1_score(y_true, y_pred, average='micro'), \n",
        "        end='\\n\\n')"
      ],
      "execution_count": 13,
      "outputs": []
    },
    {
      "cell_type": "code",
      "metadata": {
        "id": "KT59pkph_vvK",
        "colab": {
          "base_uri": "https://localhost:8080/"
        },
        "outputId": "0fdef517-551e-4e10-a07b-d3b0ac19eb38"
      },
      "source": [
        "from sklearn.feature_extraction.text import TfidfVectorizer\n",
        "\n",
        "tfidf_vectorizer = TfidfVectorizer(min_df=5, max_df=0.9, \n",
        "                                   ngram_range=(1, 2),\n",
        "                                   token_pattern='(\\S+)')\n",
        "\n",
        "X_train_tfidf = tfidf_vectorizer.fit_transform(X_train)\n",
        "X_val_tfidf =  tfidf_vectorizer.transform(X_val)\n",
        "X_test_tfidf =  tfidf_vectorizer.transform(X_test)\n",
        "print('TFIDF vocab size', len(tfidf_vectorizer.vocabulary_))"
      ],
      "execution_count": 14,
      "outputs": [
        {
          "output_type": "stream",
          "text": [
            "TFIDF vocab size 19696\n"
          ],
          "name": "stdout"
        }
      ]
    },
    {
      "cell_type": "markdown",
      "metadata": {
        "id": "KyqXJq_n0jbD"
      },
      "source": [
        "It is reported [here](https://rikunert.com/ordinal_rating) that ordinal classification (e.g. ratings) are better served by *ordered logistic regression* (LAT) than by *logistic regressions* (LR).  \n",
        "* features of 90s are closer to features of 80s than those of 50s;\n",
        "* predicting 90s for 80s is better than predicting 50s.\n",
        "\n",
        "Both LAT & LR are experiemnted.\n"
      ]
    },
    {
      "cell_type": "code",
      "metadata": {
        "id": "eIEQE-_WBx5a",
        "colab": {
          "base_uri": "https://localhost:8080/"
        },
        "outputId": "06bb0180-f373-4583-e11f-0c0a52de01b2"
      },
      "source": [
        "clf_LR = LogisticRegression(C=1, max_iter=1000)\n",
        "clf_LAT = LogisticAT(alpha=0.01, verbose=1, max_iter=10000)\n",
        "clf_LR.fit(X_train_tfidf, y_train)\n",
        "clf_LAT.fit(X_train_tfidf, y_train)"
      ],
      "execution_count": 15,
      "outputs": [
        {
          "output_type": "execute_result",
          "data": {
            "text/plain": [
              "LogisticAT(alpha=0.01, max_iter=10000, verbose=1)"
            ]
          },
          "metadata": {
            "tags": []
          },
          "execution_count": 15
        }
      ]
    },
    {
      "cell_type": "markdown",
      "metadata": {
        "id": "cD7br4LbQ1W7"
      },
      "source": [
        "n-grams models fare slightly better than guessing, but underfit even when minimizing regularization coef. \n",
        "For this particular task, it seems that ignoring the ordinal nature of the labels doesn't hurt much. **Thus the following deep models go with multiclass classification**"
      ]
    },
    {
      "cell_type": "code",
      "metadata": {
        "id": "wAVVxe8ZI2Wn",
        "colab": {
          "base_uri": "https://localhost:8080/"
        },
        "outputId": "ec4ac6a0-d0a0-4b9c-e1ef-a625a284d1b1"
      },
      "source": [
        "model_assess('OrdLogiAT - train', \n",
        "             y_train, clf_LAT.predict(X_train_tfidf))\n",
        "model_assess('OrdLogiAT - val', \n",
        "             y_val, clf_LAT.predict(X_val_tfidf))\n",
        "model_assess('LogiReg - train', \n",
        "             y_train, clf_LR.predict(X_train_tfidf))\n",
        "model_assess('LogiReg - val', \n",
        "             y_val, clf_LR.predict(X_val_tfidf))\n",
        "model_assess('Guess mode - val', \n",
        "             y_val, guessMode(X_val_tfidf))\n",
        "model_assess('Guess random - val', \n",
        "             y_val, guessRandom(X_val_tfidf))"
      ],
      "execution_count": 16,
      "outputs": [
        {
          "output_type": "stream",
          "text": [
            "OrdLogiAT - train:\n",
            " MAE: 0.111 Acc: 0.895 F1: 0.895\n",
            "\n",
            "OrdLogiAT - val:\n",
            " MAE: 1.331 Acc: 0.236 F1: 0.236\n",
            "\n",
            "LogiReg - train:\n",
            " MAE: 0.577 Acc: 0.660 F1: 0.660\n",
            "\n",
            "LogiReg - val:\n",
            " MAE: 0.991 Acc: 0.343 F1: 0.343\n",
            "\n",
            "Guess mode - val:\n",
            " MAE: 0.984 Acc: 0.306 F1: 0.306\n",
            "\n",
            "Guess random - val:\n",
            " MAE: 2.764 Acc: 0.104 F1: 0.104\n",
            "\n"
          ],
          "name": "stdout"
        }
      ]
    },
    {
      "cell_type": "markdown",
      "metadata": {
        "id": "fs_Xb-9i5qY8"
      },
      "source": [
        "## 4. Deep models\n",
        "Since the baseline capacity is insufficient, we experiment with deep models:\n",
        "*   Basic CNN (with frozen GloVe embedding)\n",
        "*   Separable CNN\n",
        "*   Transformer\n",
        "\n",
        "These are parallizable & computationally efficient.  \n",
        "The next step can be character-level CNN, large-scale pretrained encoder (BERT), recurrent networks ...\n"
      ]
    },
    {
      "cell_type": "code",
      "metadata": {
        "id": "eV0WQHn2A2Ym"
      },
      "source": [
        "#### build vocabulary & tokenzier\n",
        "MAX_LEN = 60                # roughly (mean + 2 * std)\n",
        "MAX_VOCAB_SIZE = 2 ** 14    # comparable to TFIDF vocab size\n",
        "\n",
        "tokenizer = prep.text.Tokenizer(\n",
        "    num_words=MAX_VOCAB_SIZE,\n",
        "    filters='\"#$%&()*+.,-/:;<=>@[\\\\]^_`{|}~\\t\\n')\n",
        "tokenizer.fit_on_texts(X_train)\n",
        "vocab_size = min(MAX_VOCAB_SIZE, len(tokenizer.word_index) + 1)\n",
        "\n",
        "X_train_vec = tokenizer.texts_to_sequences(X_train)\n",
        "max_len = len(max(X_train_vec, key=len))\n",
        "max_len = min(MAX_LEN, max_len)\n",
        "X_train_vec = prep.sequence.pad_sequences(X_train_vec, maxlen=max_len)\n",
        "\n",
        "X_val_vec = tokenizer.texts_to_sequences(X_val)\n",
        "X_val_vec = prep.sequence.pad_sequences(X_val_vec, maxlen=max_len)\n",
        "\n",
        "X_test_vec = tokenizer.texts_to_sequences(X_test)\n",
        "X_test_vec = prep.sequence.pad_sequences(X_test_vec, maxlen=max_len)"
      ],
      "execution_count": 17,
      "outputs": []
    },
    {
      "cell_type": "code",
      "metadata": {
        "id": "Rz_d-493OC0X"
      },
      "source": [
        "def get_opt():\n",
        "    return tf.keras.optimizers.Adam(learning_rate=1e-3)\n",
        "\n",
        "callbacks = [tf.keras.callbacks.EarlyStopping(\n",
        "    monitor='val_loss', patience=3)]"
      ],
      "execution_count": 18,
      "outputs": []
    },
    {
      "cell_type": "markdown",
      "metadata": {
        "id": "puJYw8YKR2M-"
      },
      "source": [
        "### 4.1 Basic CNN\n",
        "As described in [here](https://www.jmlr.org/papers/volume12/collobert11a/collobert11a.pdf) and [here](https://arxiv.org/pdf/1408.5882.pdf) (with frozen GloVe embedding).  \n",
        "GloVe + \"basic\" models won't benifit much from tuable embedding (Sam Bowman p.c.). Experimented and confirmed (results omitted)."
      ]
    },
    {
      "cell_type": "code",
      "metadata": {
        "id": "Z015msscxBhU"
      },
      "source": [
        "SPACY_EMB_SIZE = 300\n",
        "emb_matrix = np.zeros((vocab_size, SPACY_EMB_SIZE))\n",
        "for w, i in tokenizer.word_index.items():\n",
        "    emb_matrix[i] = spacy_nlp(w).vector"
      ],
      "execution_count": 19,
      "outputs": []
    },
    {
      "cell_type": "code",
      "metadata": {
        "id": "I2nR7SoYyUrv"
      },
      "source": [
        "def build_cnn_model(embedding_dim,\n",
        "                    num_classes,\n",
        "                    num_features,\n",
        "                    input_shape,\n",
        "                    filters=100,\n",
        "                    hidden_dim=256,\n",
        "                    dropout_rate=0.2):\n",
        "    t_in = L.Input(shape=input_shape, dtype='int64')\n",
        "    embedding = L.Embedding(\n",
        "        input_dim=num_features,\n",
        "        output_dim=embedding_dim,\n",
        "        embeddings_initializer=initializers.Constant(emb_matrix),\n",
        "        trainable=False)(t_in)\n",
        "    \n",
        "    tri_gram = L.Conv1D(filters, 3, padding='same', \n",
        "                        activation='relu')(embedding)\n",
        "    tri_gram = L.GlobalMaxPooling1D()(tri_gram)\n",
        "    \n",
        "    quart_gram = L.Conv1D(filters, 4, padding='same', \n",
        "                          activation='relu')(embedding)\n",
        "    quart_gram = L.GlobalMaxPooling1D()(quart_gram)\n",
        "    \n",
        "    quint_gram = L.Conv1D(filters, 5, padding='same', \n",
        "                          activation='relu')(embedding)\n",
        "    quint_gram = L.GlobalMaxPooling1D()(quint_gram)\n",
        "\n",
        "    concat = L.Concatenate(axis=1)([tri_gram, quart_gram, quint_gram])\n",
        "    t_den = L.Dense(hidden_dim, activation='relu')(concat)\n",
        "    t_den = L.Dropout(dropout_rate)(t_den)\n",
        "    t_out = L.Dense(num_classes, activation='softmax')(t_den)\n",
        "    model = models.Model(t_in, t_out)\n",
        "    return model\n",
        "\n",
        "model_cnn = build_cnn_model(\n",
        "    embedding_dim=SPACY_EMB_SIZE,\n",
        "    num_classes=num_classes,\n",
        "    num_features=vocab_size,\n",
        "    input_shape=[max_len],\n",
        "    dropout_rate=0.5)\n",
        "\n",
        "model_cnn.compile(optimizer=get_opt(),\n",
        "                  loss='sparse_categorical_crossentropy',\n",
        "                  metrics=['acc'])"
      ],
      "execution_count": 28,
      "outputs": []
    },
    {
      "cell_type": "code",
      "metadata": {
        "id": "rOC4XqeLRise",
        "colab": {
          "base_uri": "https://localhost:8080/"
        },
        "outputId": "ec3dec76-9739-4094-b49f-486abdc1ff64"
      },
      "source": [
        "model_cnn.fit(\n",
        "    X_train_vec,\n",
        "    y_train,                     \n",
        "    epochs=40,\n",
        "    callbacks=callbacks,\n",
        "    validation_data=(X_val_vec, y_val), \n",
        "    verbose=1, # progress bar  \n",
        "    batch_size=128)\n",
        "print('Trainning stopped.')\n",
        "model_cnn.save(os.path.join(home_path, 'text2dec_cnn_model.h5'))"
      ],
      "execution_count": 29,
      "outputs": [
        {
          "output_type": "stream",
          "text": [
            "Epoch 1/40\n",
            "129/129 [==============================] - 2s 14ms/step - loss: 1.7099 - acc: 0.2891 - val_loss: 1.6359 - val_acc: 0.3063\n",
            "Epoch 2/40\n",
            "129/129 [==============================] - 1s 11ms/step - loss: 1.6078 - acc: 0.3200 - val_loss: 1.6114 - val_acc: 0.3185\n",
            "Epoch 3/40\n",
            "129/129 [==============================] - 1s 11ms/step - loss: 1.5486 - acc: 0.3462 - val_loss: 1.5977 - val_acc: 0.3222\n",
            "Epoch 4/40\n",
            "129/129 [==============================] - 1s 11ms/step - loss: 1.4538 - acc: 0.3936 - val_loss: 1.6023 - val_acc: 0.3216\n",
            "Epoch 5/40\n",
            "129/129 [==============================] - 1s 11ms/step - loss: 1.3229 - acc: 0.4648 - val_loss: 1.6348 - val_acc: 0.3196\n",
            "Epoch 6/40\n",
            "129/129 [==============================] - 1s 10ms/step - loss: 1.1106 - acc: 0.5566 - val_loss: 1.7613 - val_acc: 0.3120\n",
            "Trainning stopped.\n"
          ],
          "name": "stdout"
        }
      ]
    },
    {
      "cell_type": "markdown",
      "metadata": {
        "id": "ahlAoMTmO4rG"
      },
      "source": [
        "### 4.2 sepCNN \n",
        "[Depthwise Separable Convolutional Network](https://arxiv.org/abs/1610.02357), recommended [here](https://developers.google.com/machine-learning/guides/text-classification/step-4), where an implementation is given."
      ]
    },
    {
      "cell_type": "code",
      "metadata": {
        "id": "KpmfUQZ9K-d2"
      },
      "source": [
        "def build_sepcnn_model(filters,\n",
        "                       kernel_size,\n",
        "                       embedding_dim,\n",
        "                       dropout_rate,\n",
        "                       pool_size,\n",
        "                       input_shape,\n",
        "                       num_classes,\n",
        "                       num_features):\n",
        "    \n",
        "    model = models.Sequential()\n",
        "    model.add(L.Embedding(input_dim=num_features,\n",
        "                          output_dim=embedding_dim,\n",
        "                          input_length=input_shape[0]))\n",
        "\n",
        "    model.add(L.Dropout(rate=dropout_rate))\n",
        "    model.add(L.SeparableConv1D(filters=filters,\n",
        "                                kernel_size=kernel_size,\n",
        "                                activation='relu',\n",
        "                                bias_initializer='random_uniform',\n",
        "                                depthwise_initializer='random_uniform',\n",
        "                                padding='same'))\n",
        "    model.add(L.SeparableConv1D(filters=filters,\n",
        "                                kernel_size=kernel_size,\n",
        "                                activation='relu',\n",
        "                                bias_initializer='random_uniform',\n",
        "                                depthwise_initializer='random_uniform',\n",
        "                                padding='same'))\n",
        "    model.add(L.MaxPooling1D(pool_size=pool_size))\n",
        "    \n",
        "    model.add(L.SeparableConv1D(filters=filters * 2,\n",
        "                               kernel_size=kernel_size,\n",
        "                               activation='relu',\n",
        "                               bias_initializer='random_uniform',\n",
        "                               depthwise_initializer='random_uniform',\n",
        "                               padding='same'))\n",
        "    model.add(L.SeparableConv1D(filters=filters * 2,\n",
        "                                kernel_size=kernel_size,\n",
        "                                activation='relu',\n",
        "                                bias_initializer='random_uniform',\n",
        "                                depthwise_initializer='random_uniform',\n",
        "                                padding='same'))\n",
        "    model.add(L.GlobalAveragePooling1D())\n",
        "\n",
        "    model.add(L.Dropout(rate=dropout_rate))\n",
        "    model.add(L.Dense(num_classes, activation='softmax'))\n",
        "    return model\n",
        "\n",
        "model_sepcnn = build_sepcnn_model(\n",
        "    filters=64,\n",
        "    embedding_dim=256,\n",
        "    kernel_size=3,\n",
        "    pool_size=3,\n",
        "    dropout_rate=0.2,\n",
        "    input_shape=[max_len],\n",
        "    num_classes=num_classes,\n",
        "    num_features=vocab_size)\n",
        "\n",
        "model_sepcnn.compile(optimizer=get_opt(),\n",
        "                     loss='sparse_categorical_crossentropy',\n",
        "                     metrics=['acc'])"
      ],
      "execution_count": 30,
      "outputs": []
    },
    {
      "cell_type": "code",
      "metadata": {
        "id": "OvVMW_e0XpTE",
        "colab": {
          "base_uri": "https://localhost:8080/"
        },
        "outputId": "c3443590-0a7a-466b-b4d7-df750eab312c"
      },
      "source": [
        "model_sepcnn.fit(\n",
        "    X_train_vec,\n",
        "    y_train,                            \n",
        "    epochs=40,\n",
        "    callbacks=callbacks,\n",
        "    validation_data=(X_val_vec, y_val), \n",
        "    verbose=1, # progress bar  \n",
        "    batch_size=128)\n",
        "print('Trainning stopped.')\n",
        "model_sepcnn.save(os.path.join(home_path, 'text2dec_sepcnn_model.h5'))"
      ],
      "execution_count": 31,
      "outputs": [
        {
          "output_type": "stream",
          "text": [
            "Epoch 1/40\n",
            "129/129 [==============================] - 6s 50ms/step - loss: 1.8354 - acc: 0.3020 - val_loss: 1.6401 - val_acc: 0.3060\n",
            "Epoch 2/40\n",
            "129/129 [==============================] - 6s 44ms/step - loss: 1.6287 - acc: 0.3036 - val_loss: 1.6346 - val_acc: 0.3060\n",
            "Epoch 3/40\n",
            "129/129 [==============================] - 6s 43ms/step - loss: 1.6223 - acc: 0.3054 - val_loss: 1.6253 - val_acc: 0.3060\n",
            "Epoch 4/40\n",
            "129/129 [==============================] - 6s 43ms/step - loss: 1.5917 - acc: 0.3113 - val_loss: 1.6169 - val_acc: 0.3066\n",
            "Epoch 5/40\n",
            "129/129 [==============================] - 6s 44ms/step - loss: 1.5312 - acc: 0.3305 - val_loss: 1.6301 - val_acc: 0.2989\n",
            "Epoch 6/40\n",
            "129/129 [==============================] - 5s 43ms/step - loss: 1.4620 - acc: 0.3589 - val_loss: 1.6653 - val_acc: 0.2955\n",
            "Epoch 7/40\n",
            "129/129 [==============================] - 5s 43ms/step - loss: 1.3891 - acc: 0.3863 - val_loss: 1.7800 - val_acc: 0.2830\n",
            "Trainning stopped.\n"
          ],
          "name": "stdout"
        }
      ]
    },
    {
      "cell_type": "markdown",
      "metadata": {
        "id": "wBP0NgAAmDtR"
      },
      "source": [
        "### 4.3 Transformer\n",
        "Implementation found [here](https://keras.io/examples/nlp/text_classification_with_transformer/), with modification."
      ]
    },
    {
      "cell_type": "code",
      "metadata": {
        "id": "Biujr8zdmRYb"
      },
      "source": [
        "class MultiHeadSelfAttention(L.Layer):\n",
        "    def __init__(self, embed_dim, num_heads=8):\n",
        "        super().__init__()\n",
        "        self.embed_dim = embed_dim\n",
        "        self.num_heads = num_heads\n",
        "        if embed_dim % num_heads:\n",
        "            raise ValueError('embedding dimension indivisible by # of heads')\n",
        "        self.projection_dim = embed_dim // num_heads\n",
        "        self.query_dense = L.Dense(embed_dim)\n",
        "        self.key_dense = L.Dense(embed_dim)\n",
        "        self.value_dense = L.Dense(embed_dim)\n",
        "        self.combine_heads = L.Dense(embed_dim)\n",
        "\n",
        "    def attention(self, query, key, value):\n",
        "        score = tf.matmul(query, key, transpose_b=True)\n",
        "        dim_key = tf.cast(tf.shape(key)[-1], tf.float32)\n",
        "        scaled_score = score / tf.math.sqrt(dim_key)\n",
        "        weights = tf.nn.softmax(scaled_score, axis=-1)\n",
        "        output = tf.matmul(weights, value)\n",
        "        return output, weights\n",
        "\n",
        "    def separate_heads(self, x, batch_size):\n",
        "        x = tf.reshape(x, (batch_size, -1, \n",
        "                           self.num_heads, self.projection_dim))\n",
        "        return tf.transpose(x, perm=[0, 2, 1, 3])\n",
        "\n",
        "    def call(self, inputs):\n",
        "        batch_size = tf.shape(inputs)[0]\n",
        "        query = self.query_dense(inputs)  # (batch_size, seq_len, embed_dim)\n",
        "        key = self.key_dense(inputs)      # (batch_size, seq_len, embed_dim)\n",
        "        value = self.value_dense(inputs)  # (batch_size, seq_len, embed_dim)\n",
        "        query = self.separate_heads(\n",
        "            query, batch_size\n",
        "        )  # (batch_size, num_heads, seq_len, projection_dim)\n",
        "        key = self.separate_heads(\n",
        "            key, batch_size\n",
        "        )  # (batch_size, num_heads, seq_len, projection_dim)\n",
        "        value = self.separate_heads(\n",
        "            value, batch_size\n",
        "        )  # (batch_size, num_heads, seq_len, projection_dim)\n",
        "        attention, weights = self.attention(query, key, value)\n",
        "        attention = tf.transpose(\n",
        "            attention, perm=[0, 2, 1, 3]\n",
        "        )  # (batch_size, seq_len, num_heads, projection_dim)\n",
        "        concat_attention = tf.reshape(\n",
        "            attention, (batch_size, -1, self.embed_dim)\n",
        "        )  # (batch_size, seq_len, embed_dim)\n",
        "        output = self.combine_heads(\n",
        "            concat_attention\n",
        "        )  # (batch_size, seq_len, embed_dim)\n",
        "        return output\n",
        "\n",
        "\n",
        "class TransformerBlock(L.Layer):\n",
        "    def __init__(self, embed_dim, num_heads, ff_dim, rate=0.1):\n",
        "        super(TransformerBlock, self).__init__()\n",
        "        self.att = MultiHeadSelfAttention(embed_dim, num_heads)\n",
        "        self.ffn = models.Sequential(\n",
        "            [L.Dense(ff_dim, activation=\"relu\"), L.Dense(embed_dim),]\n",
        "        )\n",
        "        self.layernorm1 = L.LayerNormalization(epsilon=1e-6)\n",
        "        self.layernorm2 = L.LayerNormalization(epsilon=1e-6)\n",
        "        self.dropout1 = L.Dropout(rate)\n",
        "        self.dropout2 = L.Dropout(rate)\n",
        "\n",
        "    def call(self, inputs, training):\n",
        "        attn_output = self.att(inputs)\n",
        "        attn_output = self.dropout1(attn_output, training=training)\n",
        "        out1 = self.layernorm1(inputs + attn_output)\n",
        "        ffn_output = self.ffn(out1)\n",
        "        ffn_output = self.dropout2(ffn_output, training=training)\n",
        "        return self.layernorm2(out1 + ffn_output)\n",
        "\n",
        "\n",
        "class TokenAndPositionEmbedding(L.Layer):\n",
        "    def __init__(self, maxlen, vocab_size, embed_dim):\n",
        "        super().__init__()\n",
        "        self.token_emb = L.Embedding(input_dim=vocab_size, \n",
        "                                     output_dim=embed_dim)\n",
        "        self.pos_emb = L.Embedding(input_dim=maxlen, \n",
        "                                   output_dim=embed_dim)\n",
        "\n",
        "    def call(self, x):\n",
        "        maxlen = tf.shape(x)[-1]\n",
        "        positions = tf.range(start=0, limit=maxlen, delta=1)\n",
        "        positions = self.pos_emb(positions)\n",
        "        x = self.token_emb(x)\n",
        "        return x + positions\n",
        "\n",
        "\n",
        "def build_transformer_model(\n",
        "    input_shape,\n",
        "    num_features,\n",
        "    num_classes,\n",
        "    embed_dim,    \n",
        "    num_heads=2,  \n",
        "    ff_dim=32,\n",
        "    hidden_dim=32):\n",
        "\n",
        "    t_in = L.Input(shape=input_shape)\n",
        "    embedding_layer = TokenAndPositionEmbedding(input_shape[0], \n",
        "                                                num_features, \n",
        "                                                embed_dim)\n",
        "    emb = embedding_layer(t_in)\n",
        "    t = TransformerBlock(embed_dim, num_heads, ff_dim)(emb)\n",
        "    t = L.GlobalAveragePooling1D()(t)\n",
        "    t = L.Dropout(0.1)(t)\n",
        "    t = L.Dense(hidden_dim, activation='relu')(t)\n",
        "    t = L.Dropout(0.1)(t)\n",
        "    t_out = L.Dense(num_classes, activation='softmax')(t)\n",
        "\n",
        "    model = models.Model(t_in, t_out)\n",
        "    return model\n",
        "\n",
        "model_transf = build_transformer_model(\n",
        "    input_shape=[max_len],\n",
        "    num_features=vocab_size,\n",
        "    num_classes=num_classes,\n",
        "    embed_dim=128)\n",
        "\n",
        "model_transf.compile(optimizer=get_opt(),\n",
        "                     loss='sparse_categorical_crossentropy',\n",
        "                     metrics=['acc'])"
      ],
      "execution_count": 32,
      "outputs": []
    },
    {
      "cell_type": "code",
      "metadata": {
        "id": "RavMgpodsFtI",
        "colab": {
          "base_uri": "https://localhost:8080/"
        },
        "outputId": "7b34162d-b386-412a-b409-8bd34b88f9d2"
      },
      "source": [
        "model_transf.fit(\n",
        "    X_train_vec,\n",
        "    y_train ,                            \n",
        "    epochs=40,\n",
        "    callbacks=callbacks,\n",
        "    validation_data=(X_val_vec, y_val),\n",
        "    verbose=1, # progress bar  \n",
        "    batch_size=128)\n",
        "print('Trainning stopped.')\n",
        "model_sepcnn.save(os.path.join(home_path, 'text2dec_transf_model.h5'))"
      ],
      "execution_count": 33,
      "outputs": [
        {
          "output_type": "stream",
          "text": [
            "Epoch 1/40\n",
            "129/129 [==============================] - 4s 33ms/step - loss: 1.6775 - acc: 0.2896 - val_loss: 1.6111 - val_acc: 0.3225\n",
            "Epoch 2/40\n",
            "129/129 [==============================] - 4s 30ms/step - loss: 1.5536 - acc: 0.3597 - val_loss: 1.5689 - val_acc: 0.3463\n",
            "Epoch 3/40\n",
            "129/129 [==============================] - 4s 31ms/step - loss: 1.3816 - acc: 0.4487 - val_loss: 1.6502 - val_acc: 0.3190\n",
            "Epoch 4/40\n",
            "129/129 [==============================] - 4s 31ms/step - loss: 1.1561 - acc: 0.5505 - val_loss: 1.8611 - val_acc: 0.3162\n",
            "Epoch 5/40\n",
            "129/129 [==============================] - 4s 29ms/step - loss: 0.9123 - acc: 0.6472 - val_loss: 2.1820 - val_acc: 0.3295\n",
            "Trainning stopped.\n"
          ],
          "name": "stdout"
        }
      ]
    },
    {
      "cell_type": "markdown",
      "metadata": {
        "id": "P2aRrvgE_QHe"
      },
      "source": [
        "It turns out that these deep models \n",
        "*   fit the training examples well (actually training loss keeps decreasing if more epochs trained)\n",
        "*   quickly become overfitted (val loss doesn't improve correspondingly)\n"
      ]
    },
    {
      "cell_type": "code",
      "metadata": {
        "id": "CHNv3vVf-dzg",
        "colab": {
          "base_uri": "https://localhost:8080/"
        },
        "outputId": "7ae99747-80b7-4795-ac45-ad68f980d4fa"
      },
      "source": [
        "model_assess('Basic CNN - val', \n",
        "             y_val, np.argmax(model_cnn.predict(X_val_vec), axis=1))\n",
        "model_assess('SepCNN - val', \n",
        "             y_val, np.argmax(model_sepcnn.predict(X_val_vec), axis=1))\n",
        "model_assess('Transformer - val', \n",
        "             y_val, np.argmax(model_transf.predict(X_val_vec), axis=1))"
      ],
      "execution_count": 34,
      "outputs": [
        {
          "output_type": "stream",
          "text": [
            "Basic CNN - val:\n",
            " MAE: 1.076 Acc: 0.312 F1: 0.312\n",
            "\n",
            "SepCNN - val:\n",
            " MAE: 1.115 Acc: 0.283 F1: 0.283\n",
            "\n",
            "Transformer - val:\n",
            " MAE: 1.071 Acc: 0.330 F1: 0.330\n",
            "\n"
          ],
          "name": "stdout"
        }
      ]
    },
    {
      "cell_type": "markdown",
      "metadata": {
        "id": "I_Uls69DAhBz"
      },
      "source": [
        "## 5. Summary\n",
        "\n",
        "1.  A small dataset. Deep models' overfitting pattern suggests generalization may improve on larger datasets.\n",
        "\n",
        "2. Techniques to scale: character-level CNN ([here](https://arxiv.org/pdf/1509.01626.pdf)), hashing vectorizer \n",
        "\n",
        "3.   If we reduce the number of age groups (3-4 groups), the performance improves on this dataset (val-acc 0.5-0.7). Previous studies on \"age prediction\" usually handle 2-5 classes (e.g. [[1]](https://arxiv.org/pdf/1610.00852.pdf), [[2]](https://ieeexplore.ieee.org/stamp/stamp.jsp?tp=&arnumber=7932459), [[3]](https://www.aclweb.org/anthology/P17-2076.pdf)).\n",
        "\n",
        "4.   Two predictors: contents and styles. But now the domain is limited to clothing review (not able to distinguish ages by topic), and the genre is set as review (there might be spelling clues --- need sub-word encoding to pick up)\n",
        "\n",
        "5.   No clear correlation between age & item type distribution (e.g. tops and dresses are popular for all ages) --- confirmed by experiment: these model perform reasonably well on \"department name\" classification, val-acc > 0.8.\n",
        "\n",
        "\n"
      ]
    }
  ]
}